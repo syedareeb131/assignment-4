{
 "cells": [
  {
   "cell_type": "markdown",
   "id": "d06095b4",
   "metadata": {},
   "source": [
    "## Python Programming Language\n",
    "## ASSIGNMENT # 4"
   ]
  },
  {
   "cell_type": "code",
   "execution_count": null,
   "id": "72c2c2b1",
   "metadata": {},
   "outputs": [
    {
     "name": "stdout",
     "output_type": "stream",
     "text": [
      "***WELCOME TO MY CALCULATOR***\n"
     ]
    }
   ],
   "source": [
    "# 1: PYTHON CALCULATOR MADE BY SYED AREEB ALI:-\n",
    "\n",
    "print(\"***WELCOME TO MY CALCULATOR***\");\n",
    "operation = float(input(\"What operation do you want to perform\\n 1.Addition\\n 2.Subtraction\\n 3.Multiplication\\n 4.Division\"));\n",
    "\n",
    "num1 = float(input(\"Enter first number: \"));\n",
    "num2 = float(input(\"Enter Second number: \"));\n",
    "\n",
    "if(operation==1):\n",
    "    print(\"Addition is:\",str(num1+num2));\n",
    "elif(operation==2):\n",
    "    print(\"Subtraction is:\",str(num1-num2));\n",
    "elif(operation==3):\n",
    "    print(\"Multiplication is:\",str(num1*num2));\n",
    "elif(operation==4):\n",
    "    print(\"Division is:\",str(num1/num2));\n",
    "else:\n",
    "    print(\"Invalid Operation\");"
   ]
  },
  {
   "cell_type": "code",
   "execution_count": null,
   "id": "03c484ac",
   "metadata": {},
   "outputs": [],
   "source": [
    "#2 PYTHON PROGRAM TO CHECK IF THERE IS ANY NUMERIC VALUE IN LIST USING FOR LOOP:-\n",
    "\n",
    "a = [1,2,3,\"areeb\",4,\"ali\",5,6,\"syed\" ];\n",
    "b = [6,5,4,3,2,1];\n",
    "c = [];\n",
    "\n",
    "for i in a:\n",
    "    for j in b:\n",
    "        if (i==j):\n",
    "            c.append(i);\n",
    "print(c);            "
   ]
  },
  {
   "cell_type": "code",
   "execution_count": null,
   "id": "65d5f92e",
   "metadata": {},
   "outputs": [],
   "source": [
    "#3 PYTHON PROGRAM TO ADD KEY TO DICTIONARY:-\n",
    "\n",
    "d = {0:0,1:10,2:20,3:30,4:40};\n",
    "print(d);\n",
    "\n",
    "d.update({5:50,6:60,7:70,8:80,9:90,10:100});\n",
    "print(d);"
   ]
  },
  {
   "cell_type": "code",
   "execution_count": 2,
   "id": "657ced2f",
   "metadata": {},
   "outputs": [
    {
     "name": "stdout",
     "output_type": "stream",
     "text": [
      "349\n"
     ]
    }
   ],
   "source": [
    "#4 PYTHON PROGRAM TO SUM ALL THE ITEMS IN DICTIONARY:-\n",
    "\n",
    "dictionary = {'Physics':80, 'Mathematics':95, 'Chemistry':77, 'English':97};\n",
    "print(sum(dictionary.values()));"
   ]
  },
  {
   "cell_type": "code",
   "execution_count": 4,
   "id": "a47cf1ee",
   "metadata": {},
   "outputs": [
    {
     "name": "stdout",
     "output_type": "stream",
     "text": [
      "[1, 2, 4, 6, 8, 9, 5]\n"
     ]
    }
   ],
   "source": [
    "#5 PYTHON PROGRAM TO IDENTIFY DUPLICATE VALUES FROM LIST:-\n",
    "\n",
    "list = [1,2,4,4,6,8,6,9,5,5];\n",
    "unique_list=[];\n",
    "for a in list:\n",
    "    if a not in unique_list:\n",
    "        unique_list.append(a);\n",
    "print(unique_list);        "
   ]
  },
  {
   "cell_type": "code",
   "execution_count": 2,
   "id": "10d5b4ca",
   "metadata": {},
   "outputs": [
    {
     "name": "stdout",
     "output_type": "stream",
     "text": [
      "Enter key to be search101\n",
      "The given key is present and the value of the key is:\n",
      "python\n"
     ]
    }
   ],
   "source": [
    "#6 PYTHON SCRIPT TO CHECK IF A GIVEN KEY ALREADY EXISTS IN A DICTIONARY:-\n",
    "\n",
    "d = {101:'python', 102:'c',103:'php',104:'java'};\n",
    "n = int(input('Enter key to be search'));\n",
    "if n in d.keys():\n",
    "        print('The given key is present and the value of the key is:');\n",
    "        print(d.get(n));\n",
    "else:\n",
    "    print('Given key is not present in a dictionary');"
   ]
  },
  {
   "cell_type": "code",
   "execution_count": null,
   "id": "a731d3b7",
   "metadata": {},
   "outputs": [],
   "source": []
  },
  {
   "cell_type": "code",
   "execution_count": null,
   "id": "2cde1d7a",
   "metadata": {},
   "outputs": [],
   "source": []
  }
 ],
 "metadata": {
  "kernelspec": {
   "display_name": "Python 3",
   "language": "python",
   "name": "python3"
  },
  "language_info": {
   "codemirror_mode": {
    "name": "ipython",
    "version": 3
   },
   "file_extension": ".py",
   "mimetype": "text/x-python",
   "name": "python",
   "nbconvert_exporter": "python",
   "pygments_lexer": "ipython3",
   "version": "3.8.8"
  }
 },
 "nbformat": 4,
 "nbformat_minor": 5
}
